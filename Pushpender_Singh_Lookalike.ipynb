{
  "cells": [
    {
      "cell_type": "code",
      "source": [
        "import pandas as pd\n",
        "\n",
        "Customers_df    = pd.read_csv('/content/Customers.csv')\n",
        "Products_df     = pd.read_csv('/content/Products.csv')\n",
        "Transactions_df = pd.read_csv('/content/Transactions.csv')"
      ],
      "metadata": {
        "id": "kuVy_Qv0TmjU"
      },
      "execution_count": 5,
      "outputs": []
    },
    {
      "cell_type": "code",
      "source": [
        "import numpy as np\n",
        "from sklearn.preprocessing import StandardScaler\n",
        "from sklearn.metrics.pairwise import cosine_similarity\n",
        "from datetime import datetime, timedelta\n",
        "\n",
        "customer_features = pd.get_dummies(Customers_df[['Region']])\n",
        "\n",
        "Customers_df['SignupDate'] = pd.to_datetime(Customers_df['SignupDate'])\n",
        "current_date = datetime.now()\n",
        "customer_features['DaysSinceSignup'] = (current_date - Customers_df['SignupDate']).dt.days\n",
        "\n",
        "customer_product_matrix = pd.pivot_table(\n",
        "    Transactions_df,\n",
        "    values='TotalValue',\n",
        "    index='CustomerID',\n",
        "    columns='ProductID',\n",
        "    aggfunc='sum',\n",
        "    fill_value=0\n",
        ")\n",
        "\n",
        "customer_features.set_index(Customers_df['CustomerID'], inplace=True)\n",
        "combined_features = pd.concat([customer_features, customer_product_matrix], axis=1)\n",
        "combined_features = combined_features.fillna(0)\n",
        "\n",
        "similarity_matrix = cosine_similarity(combined_features)\n",
        "similarity_df = pd.DataFrame(\n",
        "    similarity_matrix,\n",
        "    index=combined_features.index,\n",
        "    columns=combined_features.index\n",
        ")\n",
        "\n",
        "def get_top_lookalikes(customer_id, similarity_df, n=3):\n",
        "    customer_similarities = similarity_df.loc[customer_id].sort_values(ascending=False)\n",
        "    # Exclude the customer itself (similarity = 1.0)\n",
        "    top_similar = customer_similarities[1:n+1]\n",
        "    return [(idx, score) for idx, score in top_similar.items()]\n",
        "\n",
        "lookalike_results = []\n",
        "for cust_id in Customers_df['CustomerID'][:20]:\n",
        "    top_3 = get_top_lookalikes(cust_id, similarity_df)\n",
        "    lookalike_results.append({\n",
        "        'CustomerID': cust_id,\n",
        "        'Lookalikes': top_3\n",
        "    })\n",
        "\n",
        "lookalike_df = pd.DataFrame(lookalike_results)\n",
        "lookalike_df['Lookalikes'] = lookalike_df['Lookalikes'].apply(lambda x: ', '.join([f\"{cid}({score:.3f})\" for cid, score in x]))\n",
        "\n",
        "lookalike_df.to_csv('Pushpender_Singh_Lookalike.csv', index=False)\n",
        "\n",
        "print(\"Sample lookalike recommendations:\")\n",
        "print(lookalike_df.head())"
      ],
      "metadata": {
        "colab": {
          "base_uri": "https://localhost:8080/"
        },
        "id": "fmagLPt-unIX",
        "outputId": "e1a16d31-8405-4e3c-fdcb-546f6ed3ef91"
      },
      "execution_count": 33,
      "outputs": [
        {
          "output_type": "stream",
          "name": "stdout",
          "text": [
            "Sample lookalike recommendations:\n",
            "  CustomerID                                Lookalikes\n",
            "0      C0001  C0100(0.576), C0120(0.568), C0050(0.547)\n",
            "1      C0002  C0180(0.731), C0060(0.729), C0071(0.712)\n",
            "2      C0003  C0181(0.638), C0186(0.576), C0067(0.572)\n",
            "3      C0004  C0070(0.546), C0063(0.511), C0133(0.468)\n",
            "4      C0005  C0192(0.751), C0096(0.678), C0180(0.581)\n"
          ]
        }
      ]
    }
  ],
  "metadata": {
    "colab": {
      "provenance": []
    },
    "kernelspec": {
      "display_name": "Python 3",
      "name": "python3"
    },
    "language_info": {
      "name": "python"
    }
  },
  "nbformat": 4,
  "nbformat_minor": 0
}